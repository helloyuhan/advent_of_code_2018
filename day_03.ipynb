{
 "cells": [
  {
   "cell_type": "markdown",
   "metadata": {},
   "source": [
    "## Advent of Code - Day 3"
   ]
  },
  {
   "cell_type": "markdown",
   "metadata": {},
   "source": [
    "[No Matter How You Slice It](https://adventofcode.com/2018/day/3)"
   ]
  },
  {
   "cell_type": "code",
   "execution_count": 1,
   "metadata": {
    "ExecuteTime": {
     "end_time": "2018-12-16T00:11:08.212104Z",
     "start_time": "2018-12-16T00:11:07.743256Z"
    }
   },
   "outputs": [],
   "source": [
    "from load_input import *\n",
    "import numpy as np\n",
    "\n",
    "data = load_input(day=3)"
   ]
  },
  {
   "cell_type": "code",
   "execution_count": 2,
   "metadata": {
    "ExecuteTime": {
     "end_time": "2018-12-16T00:11:08.984483Z",
     "start_time": "2018-12-16T00:11:08.974984Z"
    }
   },
   "outputs": [
    {
     "data": {
      "text/plain": [
       "['#1 @ 520,746: 4x20',\n",
       " '#2 @ 274,680: 19x26',\n",
       " '#3 @ 928,402: 16x24',\n",
       " '#4 @ 338,969: 27x15',\n",
       " '#5 @ 48,306: 21x16',\n",
       " '#6 @ 418,87: 13x20',\n",
       " '#7 @ 271,316: 16x20',\n",
       " '#8 @ 697,513: 20x25',\n",
       " '#9 @ 120,479: 28x13',\n",
       " '#10 @ 974,8: 17x12']"
      ]
     },
     "execution_count": 2,
     "metadata": {},
     "output_type": "execute_result"
    }
   ],
   "source": [
    "data[:10]"
   ]
  },
  {
   "cell_type": "markdown",
   "metadata": {},
   "source": [
    "### Part I"
   ]
  },
  {
   "cell_type": "code",
   "execution_count": 42,
   "metadata": {
    "ExecuteTime": {
     "end_time": "2018-12-16T04:10:06.253137Z",
     "start_time": "2018-12-16T04:10:06.243962Z"
    }
   },
   "outputs": [],
   "source": [
    "def solve_03(data:list, part:int) -> int:\n",
    "    def get_x_y(s:str) -> tuple:\n",
    "        idx = int(s.split()[0][1:])\n",
    "        left = int(s.split('@')[1].split(',')[0][1:])\n",
    "        top = int(s.split(',')[1].split(':')[0])\n",
    "        wide = int(s.split(':')[1].split('x')[0][1:])\n",
    "        tall = int(s.split(':')[1].split('x')[1])\n",
    "        return (idx, left, left+wide, top, top+tall)\n",
    "\n",
    "    df = []\n",
    "    for d in data:\n",
    "        row = get_x_y(d)\n",
    "        df.append(row)\n",
    "\n",
    "    fabric = np.zeros((max([elem[4] for elem in df]), max([elem[2] for elem in df]))) \n",
    "    for elem in df:\n",
    "        for i in range(elem[3], elem[4]):\n",
    "            for j in range(elem[1], elem[2]):\n",
    "                fabric[i][j] += 1\n",
    "    if part == 1:\n",
    "        return len(np.where(fabric > 1)[0])\n",
    "    for row in df:\n",
    "        single = 0\n",
    "        for i in range(row[3], row[4]):\n",
    "            for j in range(row[1], row[2]):\n",
    "                if fabric[i][j] != 1: single += 1\n",
    "        if single == 0: return row[0]\n",
    "    "
   ]
  },
  {
   "cell_type": "code",
   "execution_count": 45,
   "metadata": {
    "ExecuteTime": {
     "end_time": "2018-12-16T04:12:58.219588Z",
     "start_time": "2018-12-16T04:12:57.956452Z"
    }
   },
   "outputs": [
    {
     "name": "stdout",
     "output_type": "stream",
     "text": [
      "Solution for Part 1: 120419\n"
     ]
    }
   ],
   "source": [
    "print(f'Solution for Part 1: {solve_03(data, 1)}')"
   ]
  },
  {
   "cell_type": "code",
   "execution_count": 46,
   "metadata": {
    "ExecuteTime": {
     "end_time": "2018-12-16T04:12:59.081422Z",
     "start_time": "2018-12-16T04:12:58.760600Z"
    }
   },
   "outputs": [
    {
     "name": "stdout",
     "output_type": "stream",
     "text": [
      "Solution for Part 2: 445\n"
     ]
    }
   ],
   "source": [
    "print(f'Solution for Part 2: {solve_03(data, 2)}')"
   ]
  },
  {
   "cell_type": "code",
   "execution_count": null,
   "metadata": {},
   "outputs": [],
   "source": []
  }
 ],
 "metadata": {
  "kernelspec": {
   "display_name": "Python 3",
   "language": "python",
   "name": "python3"
  },
  "language_info": {
   "codemirror_mode": {
    "name": "ipython",
    "version": 3
   },
   "file_extension": ".py",
   "mimetype": "text/x-python",
   "name": "python",
   "nbconvert_exporter": "python",
   "pygments_lexer": "ipython3",
   "version": "3.6.6"
  }
 },
 "nbformat": 4,
 "nbformat_minor": 2
}
