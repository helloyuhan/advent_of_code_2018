{
 "cells": [
  {
   "cell_type": "markdown",
   "metadata": {},
   "source": [
    "## Advent of Code - Day 7"
   ]
  },
  {
   "cell_type": "markdown",
   "metadata": {},
   "source": [
    "[The Sum of Its Parts](https://adventofcode.com/2018/day/7)"
   ]
  },
  {
   "cell_type": "code",
   "execution_count": 78,
   "metadata": {
    "ExecuteTime": {
     "end_time": "2018-12-19T03:37:51.678102Z",
     "start_time": "2018-12-19T03:37:51.675248Z"
    }
   },
   "outputs": [],
   "source": [
    "from load_input import *\n",
    "from collections import defaultdict\n",
    "\n",
    "data = load_input(day=7)"
   ]
  },
  {
   "cell_type": "code",
   "execution_count": 79,
   "metadata": {
    "ExecuteTime": {
     "end_time": "2018-12-19T03:37:51.814573Z",
     "start_time": "2018-12-19T03:37:51.810056Z"
    }
   },
   "outputs": [
    {
     "data": {
      "text/plain": [
       "[('R', 'Y'), ('N', 'T'), ('C', 'L'), ('F', 'B'), ('L', 'D')]"
      ]
     },
     "execution_count": 79,
     "metadata": {},
     "output_type": "execute_result"
    }
   ],
   "source": [
    "data = [(d.split()[1], d.split()[7]) for d in data]\n",
    "data[:5]"
   ]
  },
  {
   "cell_type": "markdown",
   "metadata": {},
   "source": [
    "### Part I"
   ]
  },
  {
   "cell_type": "code",
   "execution_count": 80,
   "metadata": {
    "ExecuteTime": {
     "end_time": "2018-12-19T03:37:52.128178Z",
     "start_time": "2018-12-19T03:37:52.122517Z"
    }
   },
   "outputs": [],
   "source": [
    "def solve_07_part_1(data:list) -> str:\n",
    "    edge = defaultdict(list)\n",
    "    pre = defaultdict(int)\n",
    "    for elem in data:\n",
    "        edge[elem[0]].append(elem[1])\n",
    "        pre[elem[1]] += 1\n",
    "    for k in edge:\n",
    "        edge[k] = sorted(edge[k])\n",
    "\n",
    "    queue = []\n",
    "    def in_queue(x):\n",
    "        if pre[x] == 0: queue.append(x)\n",
    "\n",
    "    for k in edge:\n",
    "        in_queue(k)\n",
    "\n",
    "    sequence = ''\n",
    "    while queue:\n",
    "        x = min(queue)\n",
    "        sequence += x\n",
    "        for v in edge[x]:\n",
    "            pre[v] -= 1\n",
    "            in_queue(v)\n",
    "        queue.remove(x)\n",
    "    \n",
    "    return sequence"
   ]
  },
  {
   "cell_type": "code",
   "execution_count": 81,
   "metadata": {
    "ExecuteTime": {
     "end_time": "2018-12-19T03:37:52.578971Z",
     "start_time": "2018-12-19T03:37:52.576149Z"
    }
   },
   "outputs": [
    {
     "name": "stdout",
     "output_type": "stream",
     "text": [
      "Solution for Part I: CFMNLOAHRKPTWBJSYZVGUQXIDE\n"
     ]
    }
   ],
   "source": [
    "print(f'Solution for Part I: {solve_07_part_1(data)}')"
   ]
  },
  {
   "cell_type": "markdown",
   "metadata": {},
   "source": [
    "### Part II"
   ]
  },
  {
   "cell_type": "code",
   "execution_count": 111,
   "metadata": {
    "ExecuteTime": {
     "end_time": "2018-12-19T03:51:01.983665Z",
     "start_time": "2018-12-19T03:51:01.975575Z"
    }
   },
   "outputs": [],
   "source": [
    "def solve_07_part_2(data:list) -> int:\n",
    "    edge = defaultdict(list)\n",
    "    pre = defaultdict(int)\n",
    "    for elem in data:\n",
    "        edge[elem[0]].append(elem[1])\n",
    "        pre[elem[1]] += 1\n",
    "    for k in edge:\n",
    "        edge[k] = sorted(edge[k])\n",
    "        \n",
    "    # task in queue\n",
    "    queue = []\n",
    "    def in_queue(x):\n",
    "#         global queue\n",
    "        if pre[x] == 0: queue.append(x)\n",
    "\n",
    "    # task in work\n",
    "    working = []\n",
    "    t = 0\n",
    "    def in_working():\n",
    "#         global queue\n",
    "        while len(working) < 5 and queue:\n",
    "            x = min(queue)\n",
    "            queue.remove(x)\n",
    "            working.append((t+61+ord(x)-ord('A'), x))\n",
    "\n",
    "    # first set of queue and work\n",
    "    for k in edge:\n",
    "        in_queue(k)\n",
    "    in_working()\n",
    "\n",
    "    while working:\n",
    "        t, x = min(working)\n",
    "        working.remove((t, x))\n",
    "        for v in edge[x]:\n",
    "            pre[v] -= 1\n",
    "            in_queue(v)\n",
    "        in_working()\n",
    "    \n",
    "    return t"
   ]
  },
  {
   "cell_type": "code",
   "execution_count": 112,
   "metadata": {
    "ExecuteTime": {
     "end_time": "2018-12-19T03:51:02.102937Z",
     "start_time": "2018-12-19T03:51:02.100076Z"
    }
   },
   "outputs": [
    {
     "name": "stdout",
     "output_type": "stream",
     "text": [
      "Solution for Part II: 971\n"
     ]
    }
   ],
   "source": [
    "print(f'Solution for Part II: {solve_07_part_2(data)}')"
   ]
  },
  {
   "cell_type": "code",
   "execution_count": null,
   "metadata": {},
   "outputs": [],
   "source": []
  }
 ],
 "metadata": {
  "kernelspec": {
   "display_name": "Python 3",
   "language": "python",
   "name": "python3"
  },
  "language_info": {
   "codemirror_mode": {
    "name": "ipython",
    "version": 3
   },
   "file_extension": ".py",
   "mimetype": "text/x-python",
   "name": "python",
   "nbconvert_exporter": "python",
   "pygments_lexer": "ipython3",
   "version": "3.6.6"
  }
 },
 "nbformat": 4,
 "nbformat_minor": 2
}
