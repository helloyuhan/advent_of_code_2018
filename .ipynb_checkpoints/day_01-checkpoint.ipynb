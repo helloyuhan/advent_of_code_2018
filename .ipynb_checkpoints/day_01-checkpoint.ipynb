{
 "cells": [
  {
   "cell_type": "markdown",
   "metadata": {},
   "source": [
    "## Advent of Code - Day 1"
   ]
  },
  {
   "cell_type": "markdown",
   "metadata": {},
   "source": [
    "[Chronal Calibration](https://adventofcode.com/2018/day/1)"
   ]
  },
  {
   "cell_type": "code",
   "execution_count": 5,
   "metadata": {},
   "outputs": [],
   "source": [
    "from load_input import *\n",
    "\n",
    "data = load_input(day=1)"
   ]
  },
  {
   "cell_type": "code",
   "execution_count": 13,
   "metadata": {},
   "outputs": [],
   "source": [
    "def solve_01(data:list, part:int) -> int:\n",
    "    sums = 0\n",
    "    unique = []\n",
    "    \n",
    "    while True:\n",
    "        for elem in data:\n",
    "            if elem[0] == '+': sums += int(elem[1:])\n",
    "            else: sums -= int(elem[1:])\n",
    "\n",
    "            # part 2 (until replication)\n",
    "            if part == 2 and sums in unique: return sums\n",
    "            unique.append(sums)\n",
    "\n",
    "        # part 1 (just the sum)\n",
    "        if part == 1: return sums"
   ]
  },
  {
   "cell_type": "code",
   "execution_count": 15,
   "metadata": {},
   "outputs": [
    {
     "name": "stdout",
     "output_type": "stream",
     "text": [
      "Solution for Part 1: 529\n",
      "Solution for Part 2: 464\n"
     ]
    }
   ],
   "source": [
    "print(f'Solution for Part 1: {solve_01(data, 1)}')\n",
    "print(f'Solution for Part 2: {solve_01(data, 2)}')"
   ]
  },
  {
   "cell_type": "code",
   "execution_count": null,
   "metadata": {},
   "outputs": [],
   "source": []
  }
 ],
 "metadata": {
  "kernelspec": {
   "display_name": "Python 3",
   "language": "python",
   "name": "python3"
  },
  "language_info": {
   "codemirror_mode": {
    "name": "ipython",
    "version": 3
   },
   "file_extension": ".py",
   "mimetype": "text/x-python",
   "name": "python",
   "nbconvert_exporter": "python",
   "pygments_lexer": "ipython3",
   "version": "3.6.6"
  }
 },
 "nbformat": 4,
 "nbformat_minor": 2
}
