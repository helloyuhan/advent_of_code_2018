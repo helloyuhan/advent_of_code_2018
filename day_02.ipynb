{
 "cells": [
  {
   "cell_type": "markdown",
   "metadata": {},
   "source": [
    "## Advent of Code - Day 2"
   ]
  },
  {
   "cell_type": "markdown",
   "metadata": {},
   "source": [
    "[Inventory Management System](https://adventofcode.com/2018/day/2)"
   ]
  },
  {
   "cell_type": "code",
   "execution_count": 35,
   "metadata": {},
   "outputs": [],
   "source": [
    "from load_input import *\n",
    "\n",
    "data = load_input(day=2)"
   ]
  },
  {
   "cell_type": "markdown",
   "metadata": {},
   "source": [
    "### Part I"
   ]
  },
  {
   "cell_type": "code",
   "execution_count": 39,
   "metadata": {},
   "outputs": [],
   "source": [
    "from collections import Counter\n",
    "\n",
    "def solve_02_part_1(data:list) -> int:\n",
    "    double = 0\n",
    "    triple = 0\n",
    "    for elem in data:\n",
    "        counts = Counter(list(elem)).values()\n",
    "        if 2 in counts: double += 1\n",
    "        if 3 in counts: triple += 1\n",
    "    return double*triple"
   ]
  },
  {
   "cell_type": "code",
   "execution_count": 40,
   "metadata": {},
   "outputs": [
    {
     "name": "stdout",
     "output_type": "stream",
     "text": [
      "Solution for Part 1: 7134\n"
     ]
    }
   ],
   "source": [
    "print(f'Solution for Part 1: {solve_02_part_1(data)}')"
   ]
  },
  {
   "cell_type": "markdown",
   "metadata": {},
   "source": [
    "### Part 2"
   ]
  },
  {
   "cell_type": "code",
   "execution_count": 36,
   "metadata": {},
   "outputs": [],
   "source": [
    "from difflib import ndiff\n",
    "\n",
    "def solve_02_part_2(data:list) -> str:\n",
    "    for i in range(len(data)-1):\n",
    "        for j in range(i+1, len(data)):\n",
    "            if Counter(''.join(ndiff(data[i], data[j])))['+'] == 1:\n",
    "                return ''.join([data[i][idx] for idx in range(len(data[i])) if data[i][idx] == data[j][idx]])"
   ]
  },
  {
   "cell_type": "code",
   "execution_count": 38,
   "metadata": {},
   "outputs": [
    {
     "name": "stdout",
     "output_type": "stream",
     "text": [
      "Solution for Part 2: kbqwtcvzhmhpoelrnaxydifyb\n"
     ]
    }
   ],
   "source": [
    "print(f'Solution for Part 2: {solve_02_part_2(data)}')"
   ]
  },
  {
   "cell_type": "code",
   "execution_count": null,
   "metadata": {},
   "outputs": [],
   "source": []
  }
 ],
 "metadata": {
  "kernelspec": {
   "display_name": "Python 3",
   "language": "python",
   "name": "python3"
  },
  "language_info": {
   "codemirror_mode": {
    "name": "ipython",
    "version": 3
   },
   "file_extension": ".py",
   "mimetype": "text/x-python",
   "name": "python",
   "nbconvert_exporter": "python",
   "pygments_lexer": "ipython3",
   "version": "3.6.6"
  }
 },
 "nbformat": 4,
 "nbformat_minor": 2
}
