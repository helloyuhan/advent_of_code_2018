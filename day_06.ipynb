{
 "cells": [
  {
   "cell_type": "markdown",
   "metadata": {},
   "source": [
    "## Advent of Code - Day 6"
   ]
  },
  {
   "cell_type": "markdown",
   "metadata": {},
   "source": [
    "[Chronal Coordinates](https://adventofcode.com/2018/day/6)"
   ]
  },
  {
   "cell_type": "code",
   "execution_count": 221,
   "metadata": {
    "ExecuteTime": {
     "end_time": "2018-12-17T10:06:53.014295Z",
     "start_time": "2018-12-17T10:06:53.011127Z"
    }
   },
   "outputs": [],
   "source": [
    "from load_input import *\n",
    "from collections import Counter\n",
    "\n",
    "data = load_input(day=6)"
   ]
  },
  {
   "cell_type": "code",
   "execution_count": 222,
   "metadata": {
    "ExecuteTime": {
     "end_time": "2018-12-17T10:06:53.375163Z",
     "start_time": "2018-12-17T10:06:53.370497Z"
    }
   },
   "outputs": [
    {
     "data": {
      "text/plain": [
       "[(174, 356), (350, 245), (149, 291), (243, 328), (312, 70)]"
      ]
     },
     "execution_count": 222,
     "metadata": {},
     "output_type": "execute_result"
    }
   ],
   "source": [
    "data = [(int(d.split(', ')[0]), int(d.split(', ')[1])) for d in data]\n",
    "data[:5]"
   ]
  },
  {
   "cell_type": "code",
   "execution_count": 233,
   "metadata": {
    "ExecuteTime": {
     "end_time": "2018-12-17T10:23:50.006241Z",
     "start_time": "2018-12-17T10:23:49.995403Z"
    }
   },
   "outputs": [],
   "source": [
    "def solve_06(data:list, part:int) -> int:\n",
    "    left = min([c[0] for c in data])\n",
    "    right = max([c[0] for c in data])\n",
    "    top = min([c[1] for c in data])\n",
    "    bottom = max(c[1] for c in data)\n",
    "\n",
    "    def manhattan_distance(p1, p2):\n",
    "        return abs(p1[0] - p2[0]) + abs(p1[1] - p2[1])\n",
    "\n",
    "    closest = []\n",
    "    distance = []\n",
    "    for x in range(left, right+1):\n",
    "        for y in range(top, bottom+1):\n",
    "            dist = [(d, manhattan_distance(d, (x,y))) for d in data]\n",
    "            sort_dist = sorted(dist, key=lambda x: x[1])\n",
    "            if sort_dist[0][1] != sort_dist[1][1]:\n",
    "                closest.append(((x,y), sort_dist[0][0]))\n",
    "            distance.append(((x,y), [manhattan_distance(d, (x,y)) for d in data]))\n",
    "\n",
    "    inf = set()\n",
    "    for elem in closest:\n",
    "        if elem[0][0] in (left, right) or elem[0][1] in (top, bottom):\n",
    "            inf.add(elem[1][0])\n",
    "    sort_closest = sorted(list(Counter([elem[1][0] for elem in closest]).items()), key=lambda x: -x[1])\n",
    "    \n",
    "    if part == 1:\n",
    "        return [elem[1] for elem in sort_closest if elem[0] not in inf][0]\n",
    "    \n",
    "    sum_of_dist = [(elem[0], sum(elem[1])) for elem in distance]\n",
    "    return len([elem for elem in sum_of_dist if elem[1] < 10000])"
   ]
  },
  {
   "cell_type": "code",
   "execution_count": 234,
   "metadata": {
    "ExecuteTime": {
     "end_time": "2018-12-17T10:23:55.015353Z",
     "start_time": "2018-12-17T10:23:50.782561Z"
    }
   },
   "outputs": [
    {
     "name": "stdout",
     "output_type": "stream",
     "text": [
      "Solution for Part I: 3290\n"
     ]
    }
   ],
   "source": [
    "print(f'Solution for Part I: {solve_06(data, 1)}')"
   ]
  },
  {
   "cell_type": "code",
   "execution_count": 236,
   "metadata": {
    "ExecuteTime": {
     "end_time": "2018-12-17T10:24:37.577881Z",
     "start_time": "2018-12-17T10:24:33.096767Z"
    }
   },
   "outputs": [
    {
     "name": "stdout",
     "output_type": "stream",
     "text": [
      "Solution for Part I: 45602\n"
     ]
    }
   ],
   "source": [
    "print(f'Solution for Part I: {solve_06(data, 2)}')"
   ]
  },
  {
   "cell_type": "code",
   "execution_count": null,
   "metadata": {},
   "outputs": [],
   "source": []
  }
 ],
 "metadata": {
  "kernelspec": {
   "display_name": "Python 3",
   "language": "python",
   "name": "python3"
  },
  "language_info": {
   "codemirror_mode": {
    "name": "ipython",
    "version": 3
   },
   "file_extension": ".py",
   "mimetype": "text/x-python",
   "name": "python",
   "nbconvert_exporter": "python",
   "pygments_lexer": "ipython3",
   "version": "3.6.6"
  }
 },
 "nbformat": 4,
 "nbformat_minor": 2
}
